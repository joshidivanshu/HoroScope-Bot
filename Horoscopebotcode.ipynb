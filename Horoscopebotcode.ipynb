{
 "cells": [
  {
   "cell_type": "code",
   "execution_count": 2,
   "metadata": {},
   "outputs": [
    {
     "ename": "SyntaxError",
     "evalue": "from __future__ imports must occur at the beginning of the file (cell_name, line 4)",
     "output_type": "error",
     "traceback": [
      "\u001b[1;36m  File \u001b[1;32m\"cell_name\"\u001b[1;36m, line \u001b[1;32m4\u001b[0m\n\u001b[1;31mSyntaxError\u001b[0m\u001b[1;31m:\u001b[0m from __future__ imports must occur at the beginning of the file\n"
     ]
    }
   ],
   "source": [
    "from __future__ import absolute_import\n",
    "from __future__ import division\n",
    "from __future__ import print_function\n",
    "from __future__ import unicode__literals\n",
    "from rasa_core import utils\n",
    "from rasa_core.agent import Agent\n",
    "from rasa_core.policies.keras_policy import KerasPolicy\n",
    "from rasa_core.policies.memoization import MemoizationPolicy\n",
    "from rasa_core.policies.sklearn_policy import SklearnPolicy"
   ]
  },
  {
   "cell_type": "code",
   "execution_count": 3,
   "metadata": {},
   "outputs": [],
   "source": [
    "from rasa_nlu.training_data import load_data"
   ]
  },
  {
   "cell_type": "code",
   "execution_count": 4,
   "metadata": {},
   "outputs": [],
   "source": [
    "from rasa_nlu.model import Trainer"
   ]
  },
  {
   "cell_type": "code",
   "execution_count": 31,
   "metadata": {},
   "outputs": [],
   "source": [
    "from rasa_nlu import config\n"
   ]
  },
  {
   "cell_type": "code",
   "execution_count": 32,
   "metadata": {},
   "outputs": [],
   "source": [
    "from rasa_nlu.model import Interpreter"
   ]
  },
  {
   "cell_type": "code",
   "execution_count": 33,
   "metadata": {},
   "outputs": [],
   "source": [
    "def train_horoscopebot(data_json,config_file,model_dir):\n",
    "    training_data = load_data(data_json)\n",
    "    trainer = Trainer(config.load(config_file))\n",
    "    trainer.train(training_data)\n",
    "    model_directory = trainer.persist(model_dir , fixed_model_name='horoscopebot')\n",
    "    "
   ]
  },
  {
   "cell_type": "code",
   "execution_count": 34,
   "metadata": {},
   "outputs": [],
   "source": [
    "def predict_intent(text):\n",
    "    interpreter = Interpreter.load('./models/nlu/default/horoscopebot')\n",
    "    print(interpreter.parse(text))"
   ]
  },
  {
   "cell_type": "code",
   "execution_count": 35,
   "metadata": {},
   "outputs": [
    {
     "name": "stderr",
     "output_type": "stream",
     "text": [
      "Epochs: 100%|████████████████████████████████████████████████| 300/300 [00:02<00:00, 115.97it/s, loss=0.084, acc=1.000]\n"
     ]
    }
   ],
   "source": [
    "train_horoscopebot('./data/data.json', 'config.json', './models/nlu')"
   ]
  },
  {
   "cell_type": "code",
   "execution_count": 36,
   "metadata": {},
   "outputs": [
    {
     "name": "stdout",
     "output_type": "stream",
     "text": [
      "INFO:tensorflow:Restoring parameters from ./models/nlu/default/horoscopebot\\component_5_EmbeddingIntentClassifier.ckpt\n",
      "{'intent': {'name': 'get_horoscope', 'confidence': 0.9651930332183838}, 'entities': [{'start': 20, 'end': 29, 'value': 'horoscope', 'entity': 'horoscope_today', 'confidence': 0.6393314033970037, 'extractor': 'CRFEntityExtractor'}], 'intent_ranking': [{'name': 'get_horoscope', 'confidence': 0.9651930332183838}, {'name': 'subscription', 'confidence': 0.0}, {'name': 'greeting', 'confidence': 0.0}, {'name': 'dob_intent', 'confidence': 0.0}], 'text': 'I am looking for my horoscope for today. I am wondering if you can tell me that.'}\n"
     ]
    }
   ],
   "source": [
    "predict_intent(\"I am looking for my horoscope for today. I am wondering if you can tell me that.\")"
   ]
  },
  {
   "cell_type": "markdown",
   "metadata": {},
   "source": [
    "Wow! Isn’t it magical? Our model has predicted this text with a confidence of 96\n",
    "percent. You can see in the provided ipynb file that our model does well in predicting\n",
    "other intents as well. This is the power of tensorflow and ML overall. "
   ]
  },
  {
   "cell_type": "code",
   "execution_count": 11,
   "metadata": {},
   "outputs": [
    {
     "name": "stdout",
     "output_type": "stream",
     "text": [
      "INFO:tensorflow:Restoring parameters from ./models/nlu/default/horoscopebot\\component_5_EmbeddingIntentClassifier.ckpt\n",
      "{'intent': {'name': 'subscription', 'confidence': 0.9706328511238098}, 'entities': [{'start': 11, 'end': 23, 'value': 'subscription', 'entity': 'regular_updates', 'confidence': 0.9103532492749712, 'extractor': 'CRFEntityExtractor'}], 'intent_ranking': [{'name': 'subscription', 'confidence': 0.9706328511238098}, {'name': 'get_horoscope', 'confidence': 0.0}, {'name': 'greeting', 'confidence': 0.0}], 'text': 'I want the subscription'}\n"
     ]
    }
   ],
   "source": [
    "predict_intent(\"I want the subscription\")"
   ]
  },
  {
   "cell_type": "code",
   "execution_count": 10,
   "metadata": {},
   "outputs": [
    {
     "name": "stdout",
     "output_type": "stream",
     "text": [
      "INFO:tensorflow:Restoring parameters from ./models/nlu/default/horoscopebot\\intent_classifier_tensorflow_embedding.ckpt\n",
      "{'intent': {'name': 'greeting', 'confidence': 0.9509541392326355}, 'entities': [], 'intent_ranking': [{'name': 'greeting', 'confidence': 0.9509541392326355}, {'name': 'subscription', 'confidence': 0.1056637093424797}, {'name': 'get_horoscope', 'confidence': 0.0}], 'text': 'Hi'}\n"
     ]
    }
   ],
   "source": [
    "predict_intent(\"Hi\")"
   ]
  },
  {
   "cell_type": "code",
   "execution_count": 11,
   "metadata": {},
   "outputs": [
    {
     "name": "stdout",
     "output_type": "stream",
     "text": [
      "INFO:tensorflow:Restoring parameters from ./models/nlu/default/horoscopebot\\intent_classifier_tensorflow_embedding.ckpt\n",
      "{'intent': {'name': 'greeting', 'confidence': 0.9634082317352295}, 'entities': [], 'intent_ranking': [{'name': 'greeting', 'confidence': 0.9634082317352295}, {'name': 'subscription', 'confidence': 0.0}, {'name': 'get_horoscope', 'confidence': 0.0}], 'text': 'What a great day hi!'}\n"
     ]
    }
   ],
   "source": [
    "predict_intent(\"What a great day hi!\")"
   ]
  },
  {
   "cell_type": "code",
   "execution_count": 38,
   "metadata": {},
   "outputs": [
    {
     "name": "stdout",
     "output_type": "stream",
     "text": [
      "INFO:tensorflow:Restoring parameters from ./models/nlu/default/horoscopebot\\component_5_EmbeddingIntentClassifier.ckpt\n",
      "{'intent': {'name': 'dob_intent', 'confidence': 0.9476463794708252}, 'entities': [], 'intent_ranking': [{'name': 'dob_intent', 'confidence': 0.9476463794708252}, {'name': 'get_horoscope', 'confidence': 0.11561068892478943}, {'name': 'greeting', 'confidence': 0.11244606971740723}, {'name': 'subscription', 'confidence': 0.0}], 'text': 'My birthday is on 22-09'}\n"
     ]
    }
   ],
   "source": [
    "predict_intent(\"My birthday is on 22-09\")"
   ]
  },
  {
   "cell_type": "code",
   "execution_count": 37,
   "metadata": {},
   "outputs": [],
   "source": [
    "from rasa_core.actions import Action\n",
    "from rasa_core.events import SlotSet\n"
   ]
  },
  {
   "cell_type": "code",
   "execution_count": 39,
   "metadata": {},
   "outputs": [],
   "source": [
    "class GetTodaysHoroscope(Action):\n",
    "    def name(self):\n",
    "        return \"get_todays_horoscope\"\n",
    "    def run(self,dispatcher,tracker,domain):\n",
    "        #type: (Dispatcher,DialogStateTracker,Domain) ->List[Event]\n",
    "        user_horoscope_sign = tracker.get_slot('horoscope_sign')\n",
    "        #logic to get the horoscope\n",
    "        return [SlotSet('horoscope_sign',user_horoscope_sign)]        "
   ]
  },
  {
   "cell_type": "code",
   "execution_count": 40,
   "metadata": {},
   "outputs": [],
   "source": [
    "from __future__ import absolute_import\n",
    "from __future__ import division\n",
    "from __future__ import print_function\n",
    "from __future__ import unicode_literals\n",
    "\n",
    "import requests\n",
    "from rasa_core_sdk import Action\n",
    "from rasa_core_sdk.events import SlotSet\n",
    "class GetTodayHoroscope(Action):\n",
    "    def name(self):\n",
    "        return \"get_todays_horoscope\"\n",
    "    def run(self, dispatcher,tracker,domain):\n",
    "        #type : (Dispatcher, DialogueStateTracker,Domain) -. List[Event]\n",
    "        user_horoscope_sign = tracker.get_slot('horoscope_sign')\n",
    "        base_url = \"http://horoscope-api.herokuapp.com/horoscope/today/{day}/{sign}\"\n",
    "        url = base_url.format(**{'day':\"today\",'sign':user_horoscope_sign}) \n",
    "        #http://horoscope-api.herokuapp.com/horoscope/today/capricorn\n",
    "        res = requests.get(url)\n",
    "        todays_horoscope = res.json()['horoscope']\n",
    "        response = \"Your today's horoscope:\\n{}\".format(todays_horoscope)\n",
    "        dispatcher.utter_message(response)\n",
    "        return [SlotSet('horoscope_sign',user_horoscope_sign)]\n",
    "        "
   ]
  },
  {
   "cell_type": "markdown",
   "metadata": {},
   "source": [
    "Slots are the ones who make the bot responsible for working like a human. Slots are like\n",
    "a storage space where the information given by the user can be stored or a pre-fetched\n",
    "information from a database or an API can also be used."
   ]
  },
  {
   "cell_type": "markdown",
   "metadata": {},
   "source": [
    "dispatcher: the dispatcher is used to send messages back to our\n",
    "users. We can use dipatcher.utter_message() to achieve the same."
   ]
  },
  {
   "cell_type": "markdown",
   "metadata": {},
   "source": [
    "• tracker: the state tracker for the current user. We can access slot\n",
    "values using tracker.get_slot(slot_name), and to get the most\n",
    "recent user message we can use tracker.latest_message.text."
   ]
  },
  {
   "cell_type": "markdown",
   "metadata": {},
   "source": [
    "Templates in Rasa are used for utterances. An utterance template contains a set\n",
    "of preset text to be sent to the user when some action is triggered. By having the same\n",
    "name of the action as the utterance or by an action with custom code, we can send our\n",
    "formatted message in templates to the user."
   ]
  },
  {
   "cell_type": "markdown",
   "metadata": {},
   "source": [
    "As per the documentation of Rasa, “The Domain defines the universe in which your\n",
    "bot operates."
   ]
  },
  {
   "cell_type": "markdown",
   "metadata": {},
   "source": [
    "# Writing Custom Actions of the Chatbot"
   ]
  },
  {
   "cell_type": "code",
   "execution_count": 41,
   "metadata": {},
   "outputs": [],
   "source": [
    "from __future__ import absolute_import\n",
    "from __future__ import division\n",
    "from __future__ import print_function\n",
    "from __future__ import unicode_literals"
   ]
  },
  {
   "cell_type": "code",
   "execution_count": 42,
   "metadata": {},
   "outputs": [],
   "source": [
    "import requests\n",
    "from rasa_core_sdk import Action\n",
    "from rasa_core_sdk.events import SlotSet"
   ]
  },
  {
   "cell_type": "code",
   "execution_count": 43,
   "metadata": {},
   "outputs": [
    {
     "ename": "SyntaxError",
     "evalue": "unexpected EOF while parsing (<ipython-input-43-0f079226be7c>, line 5)",
     "output_type": "error",
     "traceback": [
      "\u001b[1;36m  File \u001b[1;32m\"<ipython-input-43-0f079226be7c>\"\u001b[1;36m, line \u001b[1;32m5\u001b[0m\n\u001b[1;33m    \u001b[0m\n\u001b[1;37m    ^\u001b[0m\n\u001b[1;31mSyntaxError\u001b[0m\u001b[1;31m:\u001b[0m unexpected EOF while parsing\n"
     ]
    }
   ],
   "source": [
    "class GetTodaysHoroscope(Action):\n",
    "    def name(self):\n",
    "        return \"get_todays_horoscope\"\n",
    "    def run(self,dispatcher, tracker, domain):\n",
    "        "
   ]
  },
  {
   "cell_type": "code",
   "execution_count": 44,
   "metadata": {},
   "outputs": [],
   "source": [
    "class SubscribeUser(Action):\n",
    "    def name(self):\n",
    "        return \"subscribe_user\"\n",
    "    def run(self, dispatcher , tracker , domain):\n",
    "        subscribe = tracker.get_slot('subscribe')\n",
    "        if subscribe == 'True':\n",
    "            response = \"You're successfully subscribed\"\n",
    "        if subscribe == \"False\":\n",
    "            response = \"You're successfully unsubscribed\"\n",
    "        dispatcher.utter_message(response)\n",
    "        return [SlotSet(\"subscribe\",subscribe)]\n",
    "    \n",
    "        "
   ]
  },
  {
   "cell_type": "markdown",
   "metadata": {},
   "source": [
    "The next step is the data. Rasa’s dialog management model is trained on actual\n",
    "conversations that users and the chatbot do. The important point here is that those\n",
    "conversations have to be converted into a story format"
   ]
  },
  {
   "cell_type": "markdown",
   "metadata": {},
   "source": [
    "A story is nothing but an actual conversation between a user and a chatbot where\n",
    "user inputs are converted into intents and entities while responses being returned\n",
    "from the chatbot are treated as actions that the chatbot is supposed to trigger when it’s\n",
    "required"
   ]
  },
  {
   "cell_type": "code",
   "execution_count": null,
   "metadata": {},
   "outputs": [],
   "source": []
  },
  {
   "cell_type": "code",
   "execution_count": 45,
   "metadata": {},
   "outputs": [
    {
     "ename": "SyntaxError",
     "evalue": "from __future__ imports must occur at the beginning of the file (cell_name, line 4)",
     "output_type": "error",
     "traceback": [
      "\u001b[1;36m  File \u001b[1;32m\"cell_name\"\u001b[1;36m, line \u001b[1;32m4\u001b[0m\n\u001b[1;31mSyntaxError\u001b[0m\u001b[1;31m:\u001b[0m from __future__ imports must occur at the beginning of the file\n"
     ]
    }
   ],
   "source": [
    "from __future__ import absolute_import\n",
    "from __future__ import division\n",
    "from __future__ import print_function\n",
    "from __future__ import unicode__literals\n",
    "from rasa_core import utils\n",
    "from rasa_core.agent import Agent\n",
    "from rasa_core.policies.keras_policy import KerasPolicy\n",
    "from rasa_core.policies.memoization import MemoizationPolicy\n",
    "from rasa_core.policies.sklearn_policy import SklearnPolicy"
   ]
  },
  {
   "cell_type": "code",
   "execution_count": null,
   "metadata": {},
   "outputs": [],
   "source": []
  }
 ],
 "metadata": {
  "kernelspec": {
   "display_name": "Python 3",
   "language": "python",
   "name": "python3"
  },
  "language_info": {
   "codemirror_mode": {
    "name": "ipython",
    "version": 3
   },
   "file_extension": ".py",
   "mimetype": "text/x-python",
   "name": "python",
   "nbconvert_exporter": "python",
   "pygments_lexer": "ipython3",
   "version": "3.7.1"
  }
 },
 "nbformat": 4,
 "nbformat_minor": 2
}
